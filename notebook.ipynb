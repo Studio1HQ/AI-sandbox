{
  "cells": [
    {
      "cell_type": "code",
      "execution_count": null,
      "metadata": {},
      "outputs": [],
      "source": [
        "!uv pip install -q rich python-dotenv e2b-code-interpreter openai browser-use pillow matplotlib"
      ]
    },
    {
      "cell_type": "code",
      "execution_count": null,
      "metadata": {},
      "outputs": [],
      "source": [
        "!playwright install chromium"
      ]
    },
    {
      "cell_type": "code",
      "execution_count": null,
      "metadata": {},
      "outputs": [],
      "source": [
        "# Load environment variables from .env file\n",
        "from dotenv import load_dotenv\n",
        "load_dotenv()\n"
      ]
    },
    {
      "cell_type": "code",
      "execution_count": null,
      "metadata": {},
      "outputs": [],
      "source": [
        "from main import main\n",
        "import os\n",
        "\n",
        "NOVITA_API_KEY = os.getenv(\"NOVITA_API_KEY\")\n",
        "NOVITA_BASE_URL = os.getenv(\"NOVITA_BASE_URL\")\n",
        "NOVITA_E2B_DOMAIN = os.getenv(\"NOVITA_E2B_DOMAIN\")\n",
        "NOVITA_E2B_TEMPLATE = os.getenv(\"NOVITA_E2B_TEMPLATE\")\n",
        "NOVITA_MODEL_FOR_BROWSER_AGENT = \"google/gemma-3-27b-it\"\n",
        "\n",
        "await main(\n",
        "    NOVITA_API_KEY,\n",
        "    NOVITA_BASE_URL,\n",
        "    NOVITA_MODEL_FOR_BROWSER_AGENT,\n",
        "    NOVITA_E2B_DOMAIN,\n",
        "    NOVITA_E2B_TEMPLATE,\n",
        ")\n"
      ]
    },
    {
      "cell_type": "code",
      "execution_count": null,
      "metadata": {},
      "outputs": [],
      "source": []
    }
  ],
  "metadata": {
    "colab": {
      "provenance": []
    },
    "kernelspec": {
      "display_name": ".venv",
      "language": "python",
      "name": "python3"
    },
    "language_info": {
      "codemirror_mode": {
        "name": "ipython",
        "version": 3
      },
      "file_extension": ".py",
      "mimetype": "text/x-python",
      "name": "python",
      "nbconvert_exporter": "python",
      "pygments_lexer": "ipython3",
      "version": "3.11.13"
    }
  },
  "nbformat": 4,
  "nbformat_minor": 0
}
