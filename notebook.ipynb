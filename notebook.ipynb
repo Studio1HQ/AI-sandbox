{
  "cells": [
    {
      "cell_type": "code",
      "execution_count": null,
      "metadata": {},
      "outputs": [],
      "source": [
        "!uv add rich python-dotenv e2b-code-interpreter openai browser-use pillow matplotlib"
      ]
    },
    {
      "cell_type": "code",
      "execution_count": null,
      "metadata": {},
      "outputs": [],
      "source": [
        "!playwright install chromium"
      ]
    },
    {
      "cell_type": "code",
      "execution_count": 1,
      "metadata": {},
      "outputs": [
        {
          "data": {
            "text/plain": [
              "True"
            ]
          },
          "execution_count": 1,
          "metadata": {},
          "output_type": "execute_result"
        }
      ],
      "source": [
        "# Load environment variables from .env file\n",
        "from dotenv import load_dotenv\n",
        "load_dotenv()\n"
      ]
    },
    {
      "cell_type": "code",
      "execution_count": null,
      "metadata": {},
      "outputs": [],
      "source": [
        "from main import main\n",
        "import os\n",
        "\n",
        "NOVITA_API_KEY = os.getenv(\"NOVITA_API_KEY\")\n",
        "NOVITA_BASE_URL = os.getenv(\"NOVITA_BASE_URL\")\n",
        "NOVITA_E2B_DOMAIN = os.getenv(\"NOVITA_E2B_DOMAIN\")\n",
        "NOVITA_E2B_TEMPLATE = os.getenv(\"NOVITA_E2B_TEMPLATE\")\n",
        "NOVITA_MODEL_FOR_BROWSER_AGENT = \"zai-org/glm-4.5v\"\n",
        "NOVITA_MODEL_FOR_EDA = \"qwen/qwen3-235b-a22b-instruct-2507\"\n",
        "NOVITA_SANDBOX_TIMEOUT_SECONDS = 900 # 900 seconds (15 minutes), sandbox instance will be killed automatically after.\n",
        "\n",
        "await main(\n",
        "    NOVITA_API_KEY,\n",
        "    NOVITA_BASE_URL,\n",
        "    NOVITA_MODEL_FOR_BROWSER_AGENT,\n",
        "    NOVITA_MODEL_FOR_EDA,\n",
        "    NOVITA_E2B_DOMAIN,\n",
        "    NOVITA_E2B_TEMPLATE,\n",
        "    NOVITA_SANDBOX_TIMEOUT_SECONDS\n",
        ")\n"
      ]
    },
    {
      "cell_type": "code",
      "execution_count": null,
      "metadata": {},
      "outputs": [],
      "source": []
    }
  ],
  "metadata": {
    "colab": {
      "provenance": []
    },
    "kernelspec": {
      "display_name": ".venv",
      "language": "python",
      "name": "python3"
    },
    "language_info": {
      "codemirror_mode": {
        "name": "ipython",
        "version": 3
      },
      "file_extension": ".py",
      "mimetype": "text/x-python",
      "name": "python",
      "nbconvert_exporter": "python",
      "pygments_lexer": "ipython3",
      "version": "3.11.13"
    }
  },
  "nbformat": 4,
  "nbformat_minor": 0
}
